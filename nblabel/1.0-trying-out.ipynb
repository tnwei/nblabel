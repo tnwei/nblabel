{
 "cells": [
  {
   "cell_type": "code",
   "execution_count": 5,
   "id": "f3247c5f-e0dc-42c6-afd9-7d6a3e704be7",
   "metadata": {},
   "outputs": [],
   "source": [
    "import bqplot\n",
    "import bqplot.pyplot as blt\n",
    "import numpy as np\n",
    "import ipywidgets as ipy\n",
    "import pandas as pd"
   ]
  },
  {
   "cell_type": "code",
   "execution_count": 6,
   "id": "bb3587f7-d0df-4ca2-9fba-25f6ea141e11",
   "metadata": {},
   "outputs": [
    {
     "data": {
      "application/vnd.jupyter.widget-view+json": {
       "model_id": "b35daf7e468248f782a06e801ec46d8b",
       "version_major": 2,
       "version_minor": 0
      },
      "text/plain": [
       "VBox(children=(Figure(axes=[Axis(scale=LinearScale()), Axis(orientation='vertical', scale=LinearScale())], fig…"
      ]
     },
     "metadata": {},
     "output_type": "display_data"
    }
   ],
   "source": [
    "fig = blt.figure()\n",
    "fig.layout.width = \"800px\"\n",
    "fig.layout.height = \"400px\"\n",
    "line = blt.plot([1, 2, 3], [4, 5, 6])\n",
    "scatter = blt.scatter([1, 2, 3], [4, 5, 6])\n",
    "blt.lasso_selector()\n",
    "blt.show()"
   ]
  },
  {
   "cell_type": "markdown",
   "id": "f945be3f-8fb7-47d6-a2f5-d6bda91f215f",
   "metadata": {},
   "source": [
    "Seems like need to install `bqplot` in the Jupyterlab extensions tab for this to work out.\n",
    "\n",
    "Edit: Worked!"
   ]
  },
  {
   "cell_type": "markdown",
   "id": "6ec3135d-04bb-4c4b-912c-4351b7b4d2bb",
   "metadata": {},
   "source": [
    "Note: The examples included in the github repo are much more complete than the docs themselves. Using them instead."
   ]
  },
  {
   "cell_type": "markdown",
   "id": "3b330bab-4e11-475f-a8be-396ee5b95d2a",
   "metadata": {},
   "source": [
    "## One small step: Toggle the colour of selected points"
   ]
  },
  {
   "cell_type": "code",
   "execution_count": 7,
   "id": "0a48816b-b791-4caa-8d98-f5bf422bae0c",
   "metadata": {
    "tags": []
   },
   "outputs": [],
   "source": [
    "df = pd.DataFrame({\n",
    "    \"x\": np.linspace(0, 10, 50),\n",
    "    \"y\": np.sin(np.linspace(0, 10, 50))\n",
    "})"
   ]
  },
  {
   "cell_type": "code",
   "execution_count": 24,
   "id": "afa8a6ab-dd8b-4a52-b535-009690827a35",
   "metadata": {
    "tags": []
   },
   "outputs": [],
   "source": [
    "scales = {\"x\": bqplot.LinearScale(), \"y\": bqplot.LinearScale()}"
   ]
  },
  {
   "cell_type": "code",
   "execution_count": 38,
   "id": "2f0a5e8e-3496-4aa4-bab4-720624cd878a",
   "metadata": {
    "tags": []
   },
   "outputs": [
    {
     "data": {
      "application/vnd.jupyter.widget-view+json": {
       "model_id": "c4c7504f9f2a45999fd635c0fd8650b9",
       "version_major": 2,
       "version_minor": 0
      },
      "text/plain": [
       "VBox(children=(Figure(axes=[Axis(label='X-axis', scale=LinearScale()), Axis(label='Y-axis', orientation='verti…"
      ]
     },
     "execution_count": 38,
     "metadata": {},
     "output_type": "execute_result"
    }
   ],
   "source": [
    "scatter = bqplot.Scatter(\n",
    "    x=df[\"x\"],\n",
    "    y=df[\"y\"],\n",
    "    scales=scales,\n",
    "    # colors=[\"orange\"],\n",
    "    selected_style={\n",
    "        \"opacity\": \"1\",\n",
    "        \"color\": \"orange\",\n",
    "    },\n",
    "    unselected_style={\n",
    "        \"opacity\": \"0.2\",\n",
    "        \"color\": \"gray\"\n",
    "    },\n",
    ")\n",
    "\n",
    "sel = bqplot.interacts.BrushSelector(\n",
    "    x_scale=scales[\"x\"], \n",
    "    y_scale=scales[\"y\"],\n",
    "    # marks required so that the mark itself can have\n",
    "    # .selected attribute\n",
    "    marks=[scatter]\n",
    ")\n",
    "\n",
    "x_ax = bqplot.Axis(label=\"X-axis\", scale=scales[\"x\"])\n",
    "x_ay = bqplot.Axis(label=\"Y-axis\", scale=scales[\"y\"], orientation=\"vertical\")\n",
    "\n",
    "# Pass the Selector instance to the Figure\n",
    "fig = bqplot.Figure(\n",
    "    marks=[scatter],\n",
    "    axes=[x_ax, x_ay],\n",
    "    title=\"\"\"Brush Selector Example. Click and drag on the Figure to action.\"\"\",\n",
    "    interaction=sel,\n",
    ")\n",
    "\n",
    "# Add HTML boxes to print stuff out\n",
    "sel_html = ipy.HTML()\n",
    "scatter_html = ipy.HTML()\n",
    "\n",
    "# 2 steps for interactivity!\n",
    "# Create linked function, then link it\n",
    "def update_sel_text(*args):\n",
    "    # *args is needed because the callback fxn is passed\n",
    "    # lots of context metadata\n",
    "    # so this is actually a (2,2) numpy array or None!\n",
    "    sel_html.value = str(sel.selected)\n",
    "    \n",
    "def update_scatter_text(*args):\n",
    "    # scatter.selected is a 1D numpy array or None\n",
    "    scatter_html.value = str(scatter.selected)\n",
    "\n",
    "# Run fxn when this attribute changes?\n",
    "sel.observe(update_sel_text, \"selected\")\n",
    "scatter.observe(update_scatter_text, \"selected\")\n",
    "    \n",
    "ipywidgets.VBox([fig, sel_html, scatter_html])"
   ]
  },
  {
   "cell_type": "markdown",
   "id": "7666ded2-cd70-4b26-a8c2-a92e3764ebae",
   "metadata": {},
   "source": [
    "Hmm, the `selected` attribute resets when I escape the selector. Nothing stops me from writing some custom callback logic here, but I also know that there's a `MultiSelector` callback."
   ]
  },
  {
   "cell_type": "code",
   "execution_count": 36,
   "id": "b197e342-8eb5-4225-8910-583a8668ab0b",
   "metadata": {
    "tags": []
   },
   "outputs": [
    {
     "data": {
      "application/vnd.jupyter.widget-view+json": {
       "model_id": "9d953a0425934599a23c3050400c9fb3",
       "version_major": 2,
       "version_minor": 0
      },
      "text/plain": [
       "VBox(children=(Figure(axes=[Axis(label='X-axis', scale=LinearScale()), Axis(label='Y-axis', orientation='verti…"
      ]
     },
     "execution_count": 36,
     "metadata": {},
     "output_type": "execute_result"
    }
   ],
   "source": [
    "scatter = bqplot.Scatter(\n",
    "    x=df[\"x\"],\n",
    "    y=df[\"y\"],\n",
    "    scales=scales,\n",
    "    # colors=[\"orange\"],\n",
    "    selected_style={\n",
    "        \"opacity\": \"1\",\n",
    "        \"color\": \"orange\",\n",
    "    },\n",
    "    unselected_style={\n",
    "        \"opacity\": \"0.2\",\n",
    "        \"color\": \"gray\"\n",
    "    },\n",
    ")\n",
    "\n",
    "sel = bqplot.interacts.MultiSelector(\n",
    "    x_scale=scales[\"x\"], \n",
    "    y_scale=scales[\"y\"],\n",
    "    # marks required so that the mark itself can have\n",
    "    # .selected attribute\n",
    "    marks=[scatter]\n",
    ")\n",
    "\n",
    "x_ax = bqplot.Axis(label=\"X-axis\", scale=scales[\"x\"])\n",
    "x_ay = bqplot.Axis(label=\"Y-axis\", scale=scales[\"y\"], orientation=\"vertical\")\n",
    "\n",
    "# Pass the Selector instance to the Figure\n",
    "fig = bqplot.Figure(\n",
    "    marks=[scatter],\n",
    "    axes=[x_ax, x_ay],\n",
    "    title=\"\"\"Brush Selector Example. Click and drag on the Figure to action.\"\"\",\n",
    "    interaction=sel,\n",
    ")\n",
    "\n",
    "# Add HTML boxes to print stuff out\n",
    "sel_html = ipy.HTML()\n",
    "scatter_html = ipy.HTML()\n",
    "\n",
    "# 2 steps for interactivity!\n",
    "# Create linked function, then link it\n",
    "def update_sel_text(*args):\n",
    "    # *args is needed because the callback fxn is passed\n",
    "    # lots of context metadata\n",
    "    # so this is actually a (2,2) numpy array or None!\n",
    "    sel_html.value = str(sel.selected)\n",
    "    \n",
    "def update_scatter_text(*args):\n",
    "    # scatter.selected is a 1D numpy array or None\n",
    "    scatter_html.value = str(scatter.selected)\n",
    "\n",
    "# Run fxn when this attribute changes?\n",
    "sel.observe(update_sel_text, \"selected\")\n",
    "scatter.observe(update_scatter_text, \"selected\")\n",
    "    \n",
    "ipywidgets.VBox([fig, sel_html, scatter_html])"
   ]
  },
  {
   "cell_type": "markdown",
   "id": "7e82f33b-4830-48c7-85ac-045a76039e09",
   "metadata": {},
   "source": [
    "Yeah nah. This is a 1D selector. Stick to writing custom logic."
   ]
  },
  {
   "cell_type": "markdown",
   "id": "b956469b-552a-42f4-9876-f6859400ac4a",
   "metadata": {},
   "source": [
    "### Writing the toggle selector"
   ]
  },
  {
   "cell_type": "markdown",
   "id": "14577900-a1a9-4e42-9564-98ed46e0b874",
   "metadata": {},
   "source": [
    "I don't think I can mess with the default `selected` attribute. But I can still plot two scatters."
   ]
  },
  {
   "cell_type": "code",
   "execution_count": 40,
   "id": "2d2e3ed9-3065-4a55-afa3-1debb5a636c6",
   "metadata": {
    "tags": []
   },
   "outputs": [],
   "source": [
    "df[\"selected\"] = False"
   ]
  },
  {
   "cell_type": "code",
   "execution_count": 53,
   "id": "76b63d8f-3c75-42c2-a408-71a511cf96ed",
   "metadata": {
    "tags": []
   },
   "outputs": [
    {
     "data": {
      "application/vnd.jupyter.widget-view+json": {
       "model_id": "51ae7000b7384b1bb22d23db31a571dd",
       "version_major": 2,
       "version_minor": 0
      },
      "text/plain": [
       "VBox(children=(Figure(axes=[Axis(label='X-axis', scale=LinearScale()), Axis(label='Y-axis', orientation='verti…"
      ]
     },
     "execution_count": 53,
     "metadata": {},
     "output_type": "execute_result"
    }
   ],
   "source": [
    "scatter = bqplot.Scatter(\n",
    "    x=df.loc[df[\"selected\"] == False, \"x\"],\n",
    "    y=df.loc[df[\"selected\"] == False, \"y\"],\n",
    "    scales=scales,\n",
    "    colors=[\"blue\"],\n",
    "    opacity=[1]\n",
    ")\n",
    "\n",
    "selected_scatter = bqplot.Scatter(\n",
    "    x=df.loc[df[\"selected\"] == True, \"x\"],\n",
    "    y=df.loc[df[\"selected\"] == True, \"y\"],\n",
    "    scales=scales,\n",
    "    colors=[\"orange\"],\n",
    "    opacity=[1]\n",
    ")\n",
    "\n",
    "sel = bqplot.interacts.BrushSelector(\n",
    "    x_scale=scales[\"x\"], \n",
    "    y_scale=scales[\"y\"],\n",
    "    # marks required so that the mark itself can have\n",
    "    # .selected attribute\n",
    "    marks=[scatter, selected_scatter],\n",
    "    brushing=True\n",
    ")\n",
    "\n",
    "x_ax = bqplot.Axis(label=\"X-axis\", scale=scales[\"x\"])\n",
    "x_ay = bqplot.Axis(label=\"Y-axis\", scale=scales[\"y\"], orientation=\"vertical\")\n",
    "\n",
    "# Pass the Selector instance to the Figure\n",
    "fig = bqplot.Figure(\n",
    "    marks=[scatter, selected_scatter],\n",
    "    axes=[x_ax, x_ay],\n",
    "    title=\"Toggle select\",\n",
    "    interaction=sel,\n",
    ")\n",
    "\n",
    "def update_toggle_selector(*args):\n",
    "    if sel.brushing is True:\n",
    "        pass\n",
    "    else:\n",
    "        # Update the manual \"selected\" toggle\n",
    "        idxs_to_toggle = scatter.selected\n",
    "        if idxs_to_toggle is not None:\n",
    "            for i in idxs_to_toggle:\n",
    "                existing_idx = df.index[i]\n",
    "                df.loc[existing_idx, \"selected\"] = ~df.loc[existing_idx, \"selected\"]\n",
    "\n",
    "        # Refresh xy's\n",
    "        scatter.x = df.loc[df[\"selected\"] == False, \"x\"]\n",
    "        scatter.y = df.loc[df[\"selected\"] == False, \"y\"]\n",
    "        selected_scatter.x = df.loc[df[\"selected\"] == True, \"x\"]\n",
    "        selected_scatter.y = df.loc[df[\"selected\"] == True, \"y\"]\n",
    "\n",
    "# Trying to figure out how brushing works\n",
    "html_div = ipy.HTML()        \n",
    "        \n",
    "def is_brushing(*args):\n",
    "    html_div.value = f\"sel.brushing: {sel.brushing}\"\n",
    "    \n",
    "# This always returns True!\n",
    "# scatter.observe(is_brushing, \"selected\")\n",
    "\n",
    "# scatter.observe(update_toggle_selector, \"selected\")\n",
    "sel.observe(update_toggle_selector, \"brushing\")\n",
    "    \n",
    "ipywidgets.VBox([fig, html_div])"
   ]
  },
  {
   "cell_type": "markdown",
   "id": "a65e318a-adac-4ff9-88e3-a22d0f5a5997",
   "metadata": {},
   "source": [
    "Embarassingly, the points that end up changing colour aren't the same as the points that are being selected.\n",
    "\n",
    "...\n",
    "\n",
    "Ah. The indices of the two separate scatters are not the same as the global indices."
   ]
  },
  {
   "cell_type": "code",
   "execution_count": 64,
   "id": "323549de-0741-452a-b8a0-dade6093fc5c",
   "metadata": {
    "tags": []
   },
   "outputs": [
    {
     "data": {
      "application/vnd.jupyter.widget-view+json": {
       "model_id": "aafcc513cb6948828392ace542672c8d",
       "version_major": 2,
       "version_minor": 0
      },
      "text/plain": [
       "VBox(children=(Figure(axes=[Axis(label='X-axis', scale=LinearScale()), Axis(label='Y-axis', orientation='verti…"
      ]
     },
     "execution_count": 64,
     "metadata": {},
     "output_type": "execute_result"
    }
   ],
   "source": [
    "scatter = bqplot.Scatter(\n",
    "    x=df.loc[df[\"selected\"] == False, \"x\"],\n",
    "    y=df.loc[df[\"selected\"] == False, \"y\"],\n",
    "    scales=scales,\n",
    "    colors=[\"blue\"],\n",
    "    opacity=[1]\n",
    ")\n",
    "\n",
    "selected_scatter = bqplot.Scatter(\n",
    "    x=df.loc[df[\"selected\"] == True, \"x\"],\n",
    "    y=df.loc[df[\"selected\"] == True, \"y\"],\n",
    "    scales=scales,\n",
    "    colors=[\"orange\"],\n",
    "    opacity=[1]\n",
    ")\n",
    "\n",
    "sel = bqplot.interacts.BrushSelector(\n",
    "    x_scale=scales[\"x\"], \n",
    "    y_scale=scales[\"y\"],\n",
    "    # marks required so that the mark itself can have\n",
    "    # .selected attribute\n",
    "    marks=[scatter, selected_scatter],\n",
    "    brushing=True\n",
    ")\n",
    "\n",
    "panzoom = bqplot.interacts.PanZoom()\n",
    "\n",
    "x_ax = bqplot.Axis(label=\"X-axis\", scale=scales[\"x\"])\n",
    "x_ay = bqplot.Axis(label=\"Y-axis\", scale=scales[\"y\"], orientation=\"vertical\")\n",
    "\n",
    "# Pass the Selector instance to the Figure\n",
    "fig = bqplot.Figure(\n",
    "    marks=[scatter, selected_scatter],\n",
    "    axes=[x_ax, x_ay],\n",
    "    title=\"Toggle select\",\n",
    "    interaction=panzoom,\n",
    ")\n",
    "\n",
    "def update_toggle_selector(*args):\n",
    "    if sel.brushing is True:\n",
    "        pass\n",
    "    else:\n",
    "        # Update the manual \"selected\" toggle\n",
    "        idxs_to_toggle = scatter.selected\n",
    "        if idxs_to_toggle is not None:\n",
    "            idxs_to_toggle_globalized = df[df[\"selected\"] == False].index[idxs_to_toggle]\n",
    "            df.loc[idxs_to_toggle_globalized, \"selected\"] = True\n",
    "                \n",
    "        # Update the manual \"selected\" toggle\n",
    "        idxs_to_toggle = selected_scatter.selected\n",
    "        if idxs_to_toggle is not None:\n",
    "            idxs_to_toggle_globalized = df[df[\"selected\"] == True].index[idxs_to_toggle]\n",
    "            df.loc[idxs_to_toggle_globalized, \"selected\"] = False\n",
    "\n",
    "        # Refresh xy's\n",
    "        # Tips from https://bqplot.readthedocs.io/en/latest/usage/updating-plots/ for hold_sync()\n",
    "        with scatter.hold_sync():\n",
    "            scatter.x = df.loc[df[\"selected\"] == False, \"x\"]\n",
    "            scatter.y = df.loc[df[\"selected\"] == False, \"y\"]\n",
    "            \n",
    "        with selected_scatter.hold_sync():\n",
    "            selected_scatter.x = df.loc[df[\"selected\"] == True, \"x\"]\n",
    "            selected_scatter.y = df.loc[df[\"selected\"] == True, \"y\"]\n",
    "\n",
    "# Trying to figure out how brushing works\n",
    "html_div = ipy.HTML()        \n",
    "        \n",
    "def currently_selected(*args):\n",
    "    html_div.value = f\"\"\"\n",
    "    Currently scatter.selected: {scatter.selected} <br>\n",
    "    Currently selected_scatter.selected: {selected_scatter.selected} <br>\n",
    "    df[\"selected\"].value_counts(): {df[\"selected\"].value_counts()}\n",
    "    \"\"\"\n",
    "    \n",
    "scatter.observe(currently_selected, \"selected\")\n",
    "\n",
    "# scatter.observe(update_toggle_selector, \"selected\")\n",
    "sel.observe(update_toggle_selector, \"brushing\")\n",
    "    \n",
    "ipywidgets.VBox([fig, html_div])"
   ]
  },
  {
   "cell_type": "markdown",
   "id": "6fe7e6e6-3267-44a0-ab41-6ba4748cb2da",
   "metadata": {},
   "source": [
    "Now this works, but the plot flickers when redrawing something as simple as this. Hmm.\n",
    "\n",
    "Using `hold_sync` fixed the issue. Hah!"
   ]
  },
  {
   "cell_type": "code",
   "execution_count": 57,
   "id": "b3009088-ce80-4b53-9167-bb1d7ad521ad",
   "metadata": {
    "tags": []
   },
   "outputs": [
    {
     "data": {
      "text/plain": [
       "selected\n",
       "True     33\n",
       "False    17\n",
       "Name: count, dtype: int64"
      ]
     },
     "execution_count": 57,
     "metadata": {},
     "output_type": "execute_result"
    }
   ],
   "source": [
    "df[\"selected\"].value_counts()"
   ]
  },
  {
   "cell_type": "markdown",
   "id": "2b595827-9256-4cfe-be15-ccb69f6aae1c",
   "metadata": {},
   "source": [
    "Added showing value_counts() in live refresh. The dataframe is indeed being changed on the fly. The core concept works! Hahahaha."
   ]
  },
  {
   "cell_type": "markdown",
   "id": "99ab963b-f7ba-4ea4-9b9c-5dff82cdfc10",
   "metadata": {
    "tags": []
   },
   "source": [
    "Now I'm thinking about scroll / zoom."
   ]
  },
  {
   "cell_type": "code",
   "execution_count": 82,
   "id": "95909205-ca7f-482f-a558-11d8ae09a8f3",
   "metadata": {
    "tags": []
   },
   "outputs": [
    {
     "data": {
      "application/vnd.jupyter.widget-view+json": {
       "model_id": "dc82ed3a89974fe28e5932f6825d9c0f",
       "version_major": 2,
       "version_minor": 0
      },
      "text/plain": [
       "VBox(children=(Figure(axes=[Axis(label='X-axis', scale=LinearScale(max=16.263584152065334, min=0.5804622971636…"
      ]
     },
     "execution_count": 82,
     "metadata": {},
     "output_type": "execute_result"
    }
   ],
   "source": [
    "scatter = bqplot.Scatter(\n",
    "    x=df.loc[df[\"selected\"] == False, \"x\"],\n",
    "    y=df.loc[df[\"selected\"] == False, \"y\"],\n",
    "    scales=scales,\n",
    "    colors=[\"blue\"],\n",
    "    opacity=[1]\n",
    ")\n",
    "\n",
    "selected_scatter = bqplot.Scatter(\n",
    "    x=df.loc[df[\"selected\"] == True, \"x\"],\n",
    "    y=df.loc[df[\"selected\"] == True, \"y\"],\n",
    "    scales=scales,\n",
    "    colors=[\"orange\"],\n",
    "    opacity=[1]\n",
    ")\n",
    "\n",
    "sel = bqplot.interacts.BrushSelector(\n",
    "    x_scale=scales[\"x\"], \n",
    "    y_scale=scales[\"y\"],\n",
    "    # marks required so that the mark itself can have\n",
    "    # .selected attribute\n",
    "    marks=[scatter, selected_scatter],\n",
    ")\n",
    "\n",
    "# Expects scales in a slightly different format\n",
    "# ned to wrap in lists\n",
    "panzoom = bqplot.interacts.PanZoom(scales={\n",
    "    \"x\": [scales[\"x\"]],\n",
    "    # \"y\": [scales[\"y\"]]\n",
    "})\n",
    "\n",
    "dropdown = ipywidgets.Dropdown(\n",
    "    description=\"Tool\", options=[\"pan/zoom\", \"box select\"],\n",
    "    value=\"box select\"\n",
    ")\n",
    "\n",
    "x_ax = bqplot.Axis(label=\"X-axis\", scale=scales[\"x\"])\n",
    "x_ay = bqplot.Axis(label=\"Y-axis\", scale=scales[\"y\"], orientation=\"vertical\")\n",
    "\n",
    "# Pass the Selector instance to the Figure\n",
    "fig = bqplot.Figure(\n",
    "    marks=[scatter, selected_scatter],\n",
    "    axes=[x_ax, x_ay],\n",
    "    title=\"Toggle select\",\n",
    "    interaction=panzoom,\n",
    ")\n",
    "\n",
    "def update_toggle_selector(*args):\n",
    "    if sel.brushing is True:\n",
    "        pass\n",
    "    else:\n",
    "        # Update the manual \"selected\" toggle\n",
    "        idxs_to_toggle = scatter.selected\n",
    "        if idxs_to_toggle is not None:\n",
    "            idxs_to_toggle_globalized = df[df[\"selected\"] == False].index[idxs_to_toggle]\n",
    "            df.loc[idxs_to_toggle_globalized, \"selected\"] = True\n",
    "                \n",
    "        # Update the manual \"selected\" toggle\n",
    "        idxs_to_toggle = selected_scatter.selected\n",
    "        if idxs_to_toggle is not None:\n",
    "            idxs_to_toggle_globalized = df[df[\"selected\"] == True].index[idxs_to_toggle]\n",
    "            df.loc[idxs_to_toggle_globalized, \"selected\"] = False\n",
    "\n",
    "        # Refresh xy's\n",
    "        # Tips from https://bqplot.readthedocs.io/en/latest/usage/updating-plots/ for hold_sync()\n",
    "        with scatter.hold_sync():\n",
    "            scatter.x = df.loc[df[\"selected\"] == False, \"x\"]\n",
    "            scatter.y = df.loc[df[\"selected\"] == False, \"y\"]\n",
    "            \n",
    "        with selected_scatter.hold_sync():\n",
    "            selected_scatter.x = df.loc[df[\"selected\"] == True, \"x\"]\n",
    "            selected_scatter.y = df.loc[df[\"selected\"] == True, \"y\"]\n",
    "\n",
    "# Trying to figure out how brushing works\n",
    "html_div = ipy.HTML()        \n",
    "        \n",
    "def currently_selected(*args):\n",
    "    html_div.value = f\"\"\"\n",
    "    Currently scatter.selected: {scatter.selected} <br>\n",
    "    Currently selected_scatter.selected: {selected_scatter.selected} <br>\n",
    "    df[\"selected\"].value_counts(): {df[\"selected\"].value_counts()}\n",
    "    \"\"\"\n",
    "    \n",
    "scatter.observe(currently_selected, \"selected\")\n",
    "dropdown.observe(update_tool, \"value\")\n",
    "sel.observe(update_toggle_selector, \"brushing\")\n",
    "\n",
    "ipywidgets.VBox([fig, html_div])"
   ]
  },
  {
   "cell_type": "markdown",
   "id": "79ebb05a-66b2-4f5e-8e15-4361d01d58a8",
   "metadata": {},
   "source": [
    "I found out that only a single interaction thingy can be passed ot the plot at any given time. This would be a limitation if I can't swap it out on the fly. I think it is possible, but gotta give it a try."
   ]
  },
  {
   "cell_type": "code",
   "execution_count": 85,
   "id": "b8432d83-b70c-42d0-8aad-3d8e6602853e",
   "metadata": {
    "tags": []
   },
   "outputs": [
    {
     "data": {
      "application/vnd.jupyter.widget-view+json": {
       "model_id": "3f506dbfb51240dab8ff2dd05d37d029",
       "version_major": 2,
       "version_minor": 0
      },
      "text/plain": [
       "VBox(children=(Dropdown(description='Tool', index=1, options=('pan/zoom', 'box select'), value='box select'), …"
      ]
     },
     "execution_count": 85,
     "metadata": {},
     "output_type": "execute_result"
    }
   ],
   "source": [
    "scatter = bqplot.Scatter(\n",
    "    x=df.loc[df[\"selected\"] == False, \"x\"],\n",
    "    y=df.loc[df[\"selected\"] == False, \"y\"],\n",
    "    scales=scales,\n",
    "    colors=[\"blue\"],\n",
    "    opacity=[1]\n",
    ")\n",
    "\n",
    "selected_scatter = bqplot.Scatter(\n",
    "    x=df.loc[df[\"selected\"] == True, \"x\"],\n",
    "    y=df.loc[df[\"selected\"] == True, \"y\"],\n",
    "    scales=scales,\n",
    "    colors=[\"orange\"],\n",
    "    opacity=[1]\n",
    ")\n",
    "\n",
    "sel = bqplot.interacts.BrushSelector(\n",
    "    x_scale=scales[\"x\"], \n",
    "    y_scale=scales[\"y\"],\n",
    "    # marks required so that the mark itself can have\n",
    "    # .selected attribute\n",
    "    marks=[scatter, selected_scatter],\n",
    ")\n",
    "\n",
    "panzoom = bqplot.interacts.PanZoom(\n",
    "    scales={\"x\": [scales[\"x\"]]}\n",
    ")\n",
    "\n",
    "dropdown = ipywidgets.Dropdown(\n",
    "    description=\"Tool\", options=[\"pan/zoom\", \"box select\"],\n",
    "    value=\"box select\"\n",
    ")\n",
    "\n",
    "interactions = {\n",
    "    \"pan/zoom\": panzoom,\n",
    "    \"box select\": sel\n",
    "}\n",
    "\n",
    "x_ax = bqplot.Axis(label=\"X-axis\", scale=scales[\"x\"])\n",
    "x_ay = bqplot.Axis(label=\"Y-axis\", scale=scales[\"y\"], orientation=\"vertical\")\n",
    "\n",
    "# Pass the Selector instance to the Figure\n",
    "fig = bqplot.Figure(\n",
    "    marks=[scatter, selected_scatter],\n",
    "    axes=[x_ax, x_ay],\n",
    "    title=\"Toggle select\",\n",
    "    interaction=interactions.get(dropdown.value),\n",
    ")\n",
    "\n",
    "toolbar = bqplot.Toolbar(figure=fig)\n",
    "\n",
    "def update_toggle_selector(*args):\n",
    "    if sel.brushing is True:\n",
    "        pass\n",
    "    else:\n",
    "        # Update the manual \"selected\" toggle\n",
    "        idxs_to_toggle = scatter.selected\n",
    "        if idxs_to_toggle is not None:\n",
    "            idxs_to_toggle_globalized = df[df[\"selected\"] == False].index[idxs_to_toggle]\n",
    "            df.loc[idxs_to_toggle_globalized, \"selected\"] = True\n",
    "                \n",
    "        # Update the manual \"selected\" toggle\n",
    "        idxs_to_toggle = selected_scatter.selected\n",
    "        if idxs_to_toggle is not None:\n",
    "            idxs_to_toggle_globalized = df[df[\"selected\"] == True].index[idxs_to_toggle]\n",
    "            df.loc[idxs_to_toggle_globalized, \"selected\"] = False\n",
    "\n",
    "        # Refresh xy's\n",
    "        # Tips from https://bqplot.readthedocs.io/en/latest/usage/updating-plots/ for hold_sync()\n",
    "        with scatter.hold_sync():\n",
    "            scatter.x = df.loc[df[\"selected\"] == False, \"x\"]\n",
    "            scatter.y = df.loc[df[\"selected\"] == False, \"y\"]\n",
    "            \n",
    "        with selected_scatter.hold_sync():\n",
    "            selected_scatter.x = df.loc[df[\"selected\"] == True, \"x\"]\n",
    "            selected_scatter.y = df.loc[df[\"selected\"] == True, \"y\"]\n",
    "\n",
    "def update_tool(*args):\n",
    "    fig.interaction = interactions.get(dropdown.value)\n",
    "            \n",
    "# Trying to figure out how brushing works\n",
    "html_div = ipy.HTML()        \n",
    "        \n",
    "def currently_selected(*args):\n",
    "    html_div.value = f\"\"\"\n",
    "    Currently scatter.selected: {scatter.selected} <br>\n",
    "    Currently selected_scatter.selected: {selected_scatter.selected} <br>\n",
    "    df[\"selected\"].value_counts(): {df[\"selected\"].value_counts()}\n",
    "    \"\"\"\n",
    "    \n",
    "scatter.observe(currently_selected, \"selected\")\n",
    "dropdown.observe(update_tool, \"value\")\n",
    "sel.observe(update_toggle_selector, \"brushing\")\n",
    "\n",
    "ipywidgets.VBox([dropdown, fig, html_div])"
   ]
  },
  {
   "cell_type": "markdown",
   "id": "55bfe928-fbcc-44b5-a78c-8dbdcedecde1",
   "metadata": {},
   "source": [
    "Zoom can be set along x-axis only, y-axis only, or both. A bit clunky but it's all good. Problem I have now, is I don't know how to reset."
   ]
  },
  {
   "cell_type": "markdown",
   "id": "9cb19fb2-f7c1-4c9a-b552-084fe9672c9d",
   "metadata": {},
   "source": [
    "Found that I can directly mess with the Scales."
   ]
  },
  {
   "cell_type": "code",
   "execution_count": 94,
   "id": "e509b5f9-a8f5-45db-972e-60b5be5401b7",
   "metadata": {
    "tags": []
   },
   "outputs": [],
   "source": [
    "scales[\"y\"].min = -1\n",
    "scales[\"x\"].min = +1"
   ]
  },
  {
   "cell_type": "markdown",
   "id": "a26117db-e753-45ad-b67c-b65c147a6ad1",
   "metadata": {},
   "source": [
    "Okay."
   ]
  },
  {
   "cell_type": "markdown",
   "id": "984d5fad-d646-43de-b232-4ee3efd27436",
   "metadata": {},
   "source": [
    "The plot is a bit heavy to pan. Maybe because I've been recreating the plot again and again, and all of them are linked?"
   ]
  },
  {
   "cell_type": "code",
   "execution_count": null,
   "id": "7c6c44d5-7740-4c43-b019-c5c0a87f14da",
   "metadata": {},
   "outputs": [],
   "source": []
  }
 ],
 "metadata": {
  "kernelspec": {
   "display_name": "Python [conda env:jupyreadterm]",
   "language": "python",
   "name": "conda-env-jupyreadterm-py"
  },
  "language_info": {
   "codemirror_mode": {
    "name": "ipython",
    "version": 3
   },
   "file_extension": ".py",
   "mimetype": "text/x-python",
   "name": "python",
   "nbconvert_exporter": "python",
   "pygments_lexer": "ipython3",
   "version": "3.11.0"
  }
 },
 "nbformat": 4,
 "nbformat_minor": 5
}
